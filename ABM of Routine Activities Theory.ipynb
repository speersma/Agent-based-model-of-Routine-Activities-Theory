{
 "cells": [
  {
   "cell_type": "markdown",
   "id": "e6deab70-b192-479a-900a-4408e47199d1",
   "metadata": {
    "slideshow": {
     "slide_type": "slide"
    },
    "tags": []
   },
   "source": [
    "# A Simplified Agent-Based Model of Routine Activities Theory\n",
    "\n",
    "By: Mark Speers\n",
    "___"
   ]
  },
  {
   "cell_type": "markdown",
   "id": "7e905368-b263-4f01-b12e-157e28bad307",
   "metadata": {
    "slideshow": {
     "slide_type": "slide"
    }
   },
   "source": [
    "# Routine Activities Theory\n",
    "___"
   ]
  },
  {
   "cell_type": "markdown",
   "id": "1af60f6a",
   "metadata": {
    "slideshow": {
     "slide_type": "fragment"
    }
   },
   "source": [
    "## What is Routine Activities Theory (RAT)\n",
    "Routine activities theory is a theory of crime opportunity. It attempts to explain the occurrence of crime using the routinized daily movement patterns of individuals.\n",
    "\n",
    "This theory has three essential components. \n",
    "1. Motivated offenders\n",
    "2. Suitable victims\n",
    "3. Capable Guardians\n",
    "\n",
    "**Basic Idea:** The central premise behind this theory is that offenses (specifically robbery in the context of the current project) occur when motivated offenders converge with suitable victims without the presence of capable guardians. "
   ]
  },
  {
   "cell_type": "markdown",
   "id": "7fd72bec-4ec7-4e8c-8512-6dbaba5d9508",
   "metadata": {
    "slideshow": {
     "slide_type": "subslide"
    },
    "tags": []
   },
   "source": [
    "## A note on simplication\n",
    "This model will be an EXTREMELY simplified version of routine activities theory. It will be so simplistic that it will not accurately represent the theory. A realistic agent-based model of the theory would require multiple moving agents, each with their own routine paths of travel and characteristics. In the following model, in order to increase feasibility the agents serving as victims and capable guardians have been frozen.\n",
    "\n",
    "The plan is to continually build on this model over the course of my Ph.D.. Agent behavior and the environment will become more complex and realistic as I expand my programming and computational modeling skills. This is only the beginning!"
   ]
  },
  {
   "cell_type": "markdown",
   "id": "829b49fb-f5b4-478a-88a1-9304d906e154",
   "metadata": {
    "slideshow": {
     "slide_type": "slide"
    }
   },
   "source": [
    "# Model Description\n",
    "___"
   ]
  },
  {
   "cell_type": "markdown",
   "id": "ba71a47a-9acc-4660-bd60-b8362392556d",
   "metadata": {
    "slideshow": {
     "slide_type": "subslide"
    }
   },
   "source": [
    "## Environment and Model-Level Characteristics\n",
    "\n",
    "- 1 cell = 47 x 47 feet$^1$\n",
    "- Grid sizes are\n",
    "    - 100x100$^1$ \n",
    "    - 200x200$^2$\n",
    "- Approximately 5-10% of citizens are offenders (reflecting ≈9.25% found by previous research)$^2$\n",
    "    - citizen population is created first then the offender population as a percentage of the citizens\n",
    "- Approximately 2-3 capable guardians per 1000 citizens$^2$"
   ]
  },
  {
   "cell_type": "markdown",
   "id": "1e6d39cf-a0d4-4379-acc2-23d44f34ee94",
   "metadata": {
    "slideshow": {
     "slide_type": "slide"
    }
   },
   "source": [
    "## Types of Agents \n",
    "\n",
    "1. Offenders \n",
    "2. Suitable Victims \n",
    "3. Capable Guardians"
   ]
  },
  {
   "cell_type": "markdown",
   "id": "6388d694-4d7f-484b-9a08-f752d0a0acd5",
   "metadata": {
    "slideshow": {
     "slide_type": "slide"
    },
    "tags": []
   },
   "source": [
    "## Agent Characteristics"
   ]
  },
  {
   "cell_type": "markdown",
   "id": "6c80b2b0-d3ac-409c-bd37-30503ff73ee5",
   "metadata": {
    "slideshow": {
     "slide_type": "subslide"
    },
    "tags": []
   },
   "source": [
    "### Agent Characteristics I\n",
    "\n",
    "#### Offenders \n",
    "- move throughout the environment in a randomized cardinal direction. \n",
    "    - offenders move between 6 and 8 cells during each tick to account for different walking speeds$^1$\n",
    "- if an offender encounters a suitable victim agent without a capable guardian within 7 cells, the offender commits a robbery"
   ]
  },
  {
   "cell_type": "markdown",
   "id": "70b3a5eb-bcec-4f6d-b7d3-29fe4d84e377",
   "metadata": {
    "jp-MarkdownHeadingCollapsed": true,
    "slideshow": {
     "slide_type": "subslide"
    },
    "tags": []
   },
   "source": [
    "### Agent Characteristics II\n",
    "#### Citizens\n",
    "- frozen in environment \n",
    "- if visited by offender without a capable guardian around, they are victimized"
   ]
  },
  {
   "cell_type": "markdown",
   "id": "70d67ab6-fa18-4b63-a1a4-31e2fa8e5606",
   "metadata": {
    "slideshow": {
     "slide_type": "subslide"
    },
    "tags": []
   },
   "source": [
    "### Agent Characteristics III\n",
    "#### Capable Guardians \n",
    "- frozen in environment\n",
    "- if within 7 cells (329 feet) of a citizen, that citizen will not be victimized$^3$\n",
    "\n"
   ]
  },
  {
   "cell_type": "markdown",
   "id": "81e26dd7-85ae-447d-8e66-46e95c0bbdb4",
   "metadata": {
    "slideshow": {
     "slide_type": "slide"
    },
    "tags": []
   },
   "source": [
    "# Necessary Packages\n",
    "___"
   ]
  },
  {
   "cell_type": "code",
   "execution_count": 2,
   "id": "e080e4e1-eae2-4d2e-9752-86931355acf3",
   "metadata": {
    "scrolled": true,
    "slideshow": {
     "slide_type": "fragment"
    }
   },
   "outputs": [],
   "source": [
    "# import commands \n",
    "import numpy as np \n",
    "import matplotlib.pyplot as plt\n",
    "%matplotlib inline\n",
    "import seaborn as sns\n",
    "import random\n",
    "import time\n",
    "from IPython.display import display, clear_output"
   ]
  },
  {
   "cell_type": "markdown",
   "id": "d95034c2-3bfe-4140-a920-207c9203c1db",
   "metadata": {
    "slideshow": {
     "slide_type": "slide"
    }
   },
   "source": [
    "# Functions for model\n",
    "___"
   ]
  },
  {
   "cell_type": "markdown",
   "id": "01c01f7e-3971-480f-896b-933921a15fcc",
   "metadata": {
    "slideshow": {
     "slide_type": "subslide"
    }
   },
   "source": [
    "## Create City Function"
   ]
  },
  {
   "cell_type": "code",
   "execution_count": 3,
   "id": "0445c549-ef34-450e-a873-f7eaa110ba3a",
   "metadata": {
    "slideshow": {
     "slide_type": "skip"
    },
    "tags": []
   },
   "outputs": [],
   "source": [
    "# define size of city, number of citizens in it, number of offenders within number of citizens, \n",
    "#and number of capable guardians\n",
    "\n",
    "def make_city_v2(rows, columns, number_citizens, number_offenders, number_guardians):\n",
    "    # create city_array of designated size full of zeros\n",
    "    city = np.zeros((rows, columns))\n",
    "    \n",
    "    # define percentage of city that is filled with citizens\n",
    "    citizen_percent = number_citizens/city.size\n",
    "    \n",
    "    # define percentage of citizens that are offenders\n",
    "    offender_percent = number_offenders/number_citizens\n",
    "    \n",
    "    # define percentage of citizens that are capable guardians\n",
    "    guardian_percent = number_guardians/number_citizens\n",
    "    \n",
    "# CITIZEN ASSIGNMENT LOOP \n",
    "\n",
    "    # loop through each row\n",
    "    for i in range(city.shape[0]):\n",
    "    \n",
    "        # loop through each column\n",
    "        for j in range(city.shape[1]):\n",
    "            \n",
    "            # assign current index to random value b/w 0 and 1\n",
    "            city[i,j] = np.random.uniform(0,1)\n",
    "            \n",
    "            # if the assigned value is <= % of city that is filled with citizens, assign 1 (citizen)\n",
    "            if city[i,j] <= citizen_percent:\n",
    "                city[i,j] = 1 \n",
    "            \n",
    "            # else assign 0 (empty space)\n",
    "            else:\n",
    "                city[i,j] = 0 \n",
    "    \n",
    "# OFFENDER ASSIGNMENT LOOP \n",
    "    \n",
    "    # loop through each row\n",
    "    for i in range(city.shape[0]):\n",
    "        \n",
    "        # loop through each column\n",
    "        for j in range(city.shape[1]):\n",
    "            \n",
    "            # if the value at index [i,j] is 1: (if there is a citizen in the cell)\n",
    "            if city[i,j] == 1:\n",
    "            \n",
    "                # set index[i,j] = np.random.uniform(0,1) (randomizing cell value)\n",
    "                city[i,j] = np.random.uniform(0,1)\n",
    "            \n",
    "                # if index[i,j] <= percentage of citizens that are offenders: \n",
    "                if city[i,j] <= offender_percent:\n",
    "            \n",
    "                    # index[i,j] = 2 (assigning the value cell as an offender)\n",
    "                    city[i,j] = 2\n",
    "            \n",
    "                # else:\n",
    "                    # index[i,j] = 1 (leaving as citizen)\n",
    "                else:\n",
    "                    city[i,j] = 1\n",
    "            \n",
    "            # else:\n",
    "                # pass - we leave the 0 as a 0 \n",
    "            else:\n",
    "                pass\n",
    "                    \n",
    "# CAPABLE GUARDIAN ASSIGNMENT LOOP\n",
    "    \n",
    "    # loop through each row \n",
    "    for i in range(city.shape[0]):\n",
    "        \n",
    "        # loop through each column \n",
    "        for j in range(city.shape[1]):\n",
    "            \n",
    "            # if the value at index [i,j] is 1: (if there is a citizen in the cell)\n",
    "            if city[i,j] == 1:\n",
    "                \n",
    "                # use np.random.uniform(0,1) to assign a new cell value\n",
    "                city[i,j] = np.random.uniform(0,1)\n",
    "                \n",
    "                # if the new cell value is <= the percentage of capable guardians \n",
    "                if city[i,j] <= guardian_percent:\n",
    "                    # assign a cell value of 3 (capable guardian) \n",
    "                    city[i,j] = 3\n",
    "                    \n",
    "                # else:\n",
    "                    # assign a cell value of 1 (citizen) \n",
    "                else:\n",
    "                    city[i,j] = 1\n",
    "                    \n",
    "            # if the original cell value is not 1, then leave as is\n",
    "                # pass\n",
    "            else:\n",
    "                pass\n",
    "            \n",
    "    # return city\n",
    "    return city"
   ]
  },
  {
   "cell_type": "markdown",
   "id": "a831e1ca",
   "metadata": {
    "slideshow": {
     "slide_type": "slide"
    }
   },
   "source": [
    "## Function to plot city"
   ]
  },
  {
   "cell_type": "code",
   "execution_count": 4,
   "id": "0c2c22d8",
   "metadata": {
    "scrolled": true,
    "slideshow": {
     "slide_type": "fragment"
    },
    "tags": []
   },
   "outputs": [],
   "source": [
    "def cityplot(cityarray):\n",
    "    fig = plt.figure(figsize=(20,20))\n",
    "    ax = fig.add_subplot(111)\n",
    "    ax.set_title('City Plot')\n",
    "    plt.imshow(cityarray, cmap = 'Accent')"
   ]
  },
  {
   "cell_type": "markdown",
   "id": "6ca54161",
   "metadata": {},
   "source": [
    "### Testing Make_city_v2 and cityplot functions"
   ]
  },
  {
   "cell_type": "code",
   "execution_count": 17,
   "id": "0354d648",
   "metadata": {},
   "outputs": [
    {
     "data": {
      "image/png": "[encoded data removed]",
      "text/plain": [
       "<Figure size 1440x1440 with 1 Axes>"
      ]
     },
     "metadata": {
      "needs_background": "light"
     },
     "output_type": "display_data"
    }
   ],
   "source": [
    "example_city = make_city_v2(100,100,2500,225,5)\n",
    "cityplot(example_city)"
   ]
  },
  {
   "cell_type": "markdown",
   "id": "5be1e53d",
   "metadata": {
    "slideshow": {
     "slide_type": "slide"
    },
    "tags": []
   },
   "source": [
    "## Function to make heatmap plot of robbery_record\n",
    "This function plots an array at the end of the advance_city_v2 function. This array will be the same shape as the input city and each cell will have 1 added to it for every robbery that occurs on the corresponding city cell. In effect the cells will get more red the more robberies occur on that cell. "
   ]
  },
  {
   "cell_type": "code",
   "execution_count": 6,
   "id": "8833e3a7",
   "metadata": {
    "slideshow": {
     "slide_type": "fragment"
    },
    "tags": []
   },
   "outputs": [],
   "source": [
    "## FUNCTION TO PLOT ROBBERY RECORD ARRAY\n",
    "def heatmapplot(robbery_record_array):\n",
    "    fig = plt.figure(figsize=(20,20))\n",
    "    ax = fig.add_subplot(111)\n",
    "    ax.set_title(\"Robbery Heat Map\")\n",
    "    plt.imshow(robbery_record_array, cmap = \"Reds\")"
   ]
  },
  {
   "cell_type": "markdown",
   "id": "f765d0be-60a6-4bd4-9ed6-0c2579a8893b",
   "metadata": {
    "slideshow": {
     "slide_type": "slide"
    }
   },
   "source": [
    "## Descriptives Function"
   ]
  },
  {
   "cell_type": "code",
   "execution_count": 7,
   "id": "a2016f60-defd-4968-9b8f-024f8597b48e",
   "metadata": {
    "slideshow": {
     "slide_type": "fragment"
    },
    "tags": []
   },
   "outputs": [],
   "source": [
    "def descriptives(city):\n",
    "    print('There are {0} citizens in the model.',\n",
    "          \"There are {1} offenders in the model.\"\n",
    "          \"There are {2} capable guardians in the model\".format(len(city[city == 1]), \n",
    "                                                                len(city[city == 2]), \n",
    "                                                                len(city[city == 3])))"
   ]
  },
  {
   "cell_type": "markdown",
   "id": "71a5ea54-ffb6-40ff-b2f3-3cf811145bb5",
   "metadata": {
    "slideshow": {
     "slide_type": "slide"
    }
   },
   "source": [
    "## Function to check if offender's new position is on board"
   ]
  },
  {
   "cell_type": "code",
   "execution_count": 8,
   "id": "d6fd2cca-be90-4307-bd70-0da544de89cc",
   "metadata": {
    "slideshow": {
     "slide_type": "fragment"
    },
    "tags": []
   },
   "outputs": [],
   "source": [
    "def onBoard(i,j,image):\n",
    "    if i <= image.shape[0]-1 and i >= 0 and j <= image.shape[1]-1 and j >= 0:\n",
    "        return True\n",
    "    else:\n",
    "        return False"
   ]
  },
  {
   "cell_type": "markdown",
   "id": "e80d7a3d-2b1f-4ce3-88ea-7525bdde000a",
   "metadata": {
    "slideshow": {
     "slide_type": "skip"
    }
   },
   "source": [
    "## Function to check neighbor values to see if capable guardian is within deterrent distance"
   ]
  },
  {
   "cell_type": "code",
   "execution_count": 9,
   "id": "595b2bbd-7887-495f-8e22-884f496d1bfc",
   "metadata": {
    "slideshow": {
     "slide_type": "skip"
    },
    "tags": []
   },
   "outputs": [],
   "source": [
    "def getNeighborValues(i,j, board):\n",
    "    #neighborhood = [(i-1, j), (i, j-1), (i+1, j), (i, j+1)]\n",
    "    \n",
    "    neighborhood_array = board[i-7:i+8, j-7:j+8]\n",
    "    \n",
    "    #neighbor_values = []\n",
    "    #for neighbor in neighborhood_array:\n",
    "        #if onBoard(neighbor[0], neighbor[1], board):\n",
    "            #neighbor_values.append(board[neighbor[0], neighbor[1]])\n",
    "    \n",
    "    return neighborhood_array#neighbor_values"
   ]
  },
  {
   "cell_type": "markdown",
   "id": "d6a9ddec-5e76-403b-8eda-ab6f0390a1ea",
   "metadata": {
    "slideshow": {
     "slide_type": "slide"
    }
   },
   "source": [
    "## New get neighbors function (credit to [stackoverflow answer writer](https://stackoverflow.com/questions/56983818/getting-a-subset-of-2d-array-given-indices-of-center-point))\n",
    "I tried to write a function that did this but this version was much more elegant so I ended up using it."
   ]
  },
  {
   "cell_type": "code",
   "execution_count": 10,
   "id": "2f1a030f-1426-4015-8332-401c866fc039",
   "metadata": {
    "slideshow": {
     "slide_type": "fragment"
    },
    "tags": []
   },
   "outputs": [],
   "source": [
    "def fixed_size_subset(a, x, y, size):\n",
    "    '''\n",
    "    Gets a subset of 2D array given a x and y coordinates\n",
    "    and an output size. If the slices exceed the bounds \n",
    "    of the input array, the non overlapping values\n",
    "    are filled with NaNs\n",
    "    ----\n",
    "    a: np.array\n",
    "        2D array from which to take a subset\n",
    "    x, y: int. Coordinates of the center of the subset\n",
    "    size: int. Size of the output array\n",
    "    ----       \n",
    "    Returns:\n",
    "        np.array\n",
    "        Subset of the input array\n",
    "    '''\n",
    "    o, r = np.divmod(size, 2)\n",
    "    l = (x-(o+r-1)).clip(0)\n",
    "    u = (y-(o+r-1)).clip(0)\n",
    "    a_ = a[l: x+o+1, u:y+o+1]\n",
    "    out = np.full((size, size), np.nan, dtype=a.dtype)\n",
    "    out[:a_.shape[0], :a_.shape[1]] = a_\n",
    "    return out"
   ]
  },
  {
   "cell_type": "markdown",
   "id": "d80009c7-04da-4e81-ac2e-cf47effd520c",
   "metadata": {
    "slideshow": {
     "slide_type": "slide"
    }
   },
   "source": [
    "## Advance City Function"
   ]
  },
  {
   "cell_type": "markdown",
   "id": "733eb8ac-58e7-4ea9-972a-9e741f19be40",
   "metadata": {
    "slideshow": {
     "slide_type": "fragment"
    },
    "tags": []
   },
   "source": [
    "### Essential Steps in Advancing Board Function\n",
    "\n",
    "1. Function takes in the city\n",
    "\n",
    "2. Function defines new city\n",
    "\n",
    "3. Function updates new city with positions of offenders after having moved 6-8 cells in a specific direction\n",
    "    - loops through cells in city\n",
    "    - if offender moves to cell where victim is, the nearby cells are checked for capable guardians\n",
    "        - if there are no guardians within 7 cells of the victim, a robbery occurs and is recorded on the robbery_record array\n",
    "\n",
    "\n",
    "4. after updating all offender positions, a copy of the previous city is created\n",
    "\n",
    "5. lastly, returns new city and previous city"
   ]
  },
  {
   "cell_type": "markdown",
   "id": "d41bb112-9921-4ef1-9910-d5fce21009e3",
   "metadata": {
    "slideshow": {
     "slide_type": "slide"
    }
   },
   "source": [
    "### Defining advance_city function"
   ]
  },
  {
   "cell_type": "code",
   "execution_count": 22,
   "id": "5ace0e10-fecb-45ba-8701-7340b0991e28",
   "metadata": {
    "slideshow": {
     "slide_type": "skip"
    },
    "tags": []
   },
   "outputs": [],
   "source": [
    "def advance_city_v2(city, previous_city):\n",
    "    \n",
    "    # defining new city\n",
    "    new_city = city.copy()\n",
    "    \n",
    "    # defining city_copy to use as neighbor check and later as previous_city\n",
    "    city_copy = city.copy()\n",
    "\n",
    "    for i in range(city.shape[0]):\n",
    "        for j in range(city.shape[1]):\n",
    "\n",
    "            # if cell in city is empty space:\n",
    "                # it stays empty in new_city\n",
    "            if city[i,j] == 0:\n",
    "                new_city[i,j] = 0\n",
    "\n",
    "            # if cell in city is a citizen \n",
    "                # it stays a citizen in new_city and doesn't move (booooo)\n",
    "            elif city[i,j] == 1:\n",
    "                new_city[i,j] = 1\n",
    "\n",
    "            # if cell in city is capable guardian\n",
    "                # it stays a guardian in new_city and doesn't move (boooo)\n",
    "            elif city[i,j] == 3:\n",
    "                new_city[i,j] = 3\n",
    "\n",
    "            # if cell in city is the location of a new offender, then do not alter it\n",
    "            elif city[i,j] == 4:\n",
    "                continue\n",
    "\n",
    "                # if cell in city is offender \n",
    "            elif city[i,j] == 2:\n",
    "\n",
    "                ##-- FINDING NEW POINT FOR OFFENDER TO MOVE TO --##\n",
    "\n",
    "                found_point = False\n",
    "                while found_point == False:\n",
    "\n",
    "                    # select distance (6-8 cells) to be travelled \n",
    "                    distance = np.random.randint(6,9) \n",
    "\n",
    "                    # select direction to travel (north = 1, east = 2, south = 3, west = 4)\n",
    "                    direction = np.random.randint(1,5)\n",
    "\n",
    "                    # identify new_point based on distance and direction\n",
    "                    if direction == 1: # if new direction is north \n",
    "                        #new_point = city[i-distance,j]\n",
    "                        new_point_i = i - distance\n",
    "                        new_point_j = j\n",
    "                        if onBoard(new_point_i, new_point_j, city) == True and city[new_point_i, new_point_j] != 2 and city[new_point_i, new_point_j] != 4 and city[new_point_i, new_point_j] !=3:\n",
    "                            found_point = True\n",
    "                            #print(new_point_i, new_point_j)\n",
    "                            new_city[new_point_i, new_point_j] = 2\n",
    "                            city[new_point_i, new_point_j] = 4\n",
    "\n",
    "                    elif direction == 2: # if new direction is east\n",
    "                        #new_point = city[i,j+distance]\n",
    "                        new_point_i = i\n",
    "                        new_point_j = j + distance\n",
    "                        if onBoard(new_point_i, new_point_j, city) == True and city[new_point_i, new_point_j] != 2 and city[new_point_i, new_point_j] != 4 and city[new_point_i, new_point_j] !=3:\n",
    "                            found_point = True\n",
    "                            #print(new_point_i, new_point_j)\n",
    "                            new_city[new_point_i, new_point_j] = 2\n",
    "                            city[new_point_i, new_point_j] = 4\n",
    "\n",
    "                    elif direction == 3: # if direction is south \n",
    "                        #new_point = city[i+distance,j]\n",
    "                        new_point_i = i + distance\n",
    "                        new_point_j = j\n",
    "                        if onBoard(new_point_i, new_point_j, city) == True and city[new_point_i, new_point_j] != 2 and city[new_point_i, new_point_j] != 4 and city[new_point_i, new_point_j] !=3:\n",
    "                            found_point = True\n",
    "                            #print(new_point_i, new_point_j)\n",
    "                            new_city[new_point_i, new_point_j] = 2\n",
    "                            city[new_point_i, new_point_j] = 4\n",
    "\n",
    "                    elif direction == 4: # if direction is west \n",
    "                        #new_point = city[i,j-distance]\n",
    "                        new_point_i = i\n",
    "                        new_point_j = j - distance\n",
    "                        if onBoard(new_point_i, new_point_j, city) == True and city[new_point_i, new_point_j] != 2 and city[new_point_i, new_point_j] != 4 and city[new_point_i, new_point_j] !=3:\n",
    "                            found_point = True\n",
    "                            #print(new_point_i, new_point_j)\n",
    "                            new_city[new_point_i, new_point_j] = 2\n",
    "                            city[new_point_i, new_point_j] = 4\n",
    "\n",
    "                ##-- FILLING IN OFFENDER'S OLD LOCATION WITH PREVIOUS_CITY VALUE --## \n",
    "\n",
    "                ###-- checking value of offender's old location in previous_city --###\n",
    "\n",
    "                # if value of offender's old location in previous_city was empty\n",
    "                    # set the cell's value in new_city to empty\n",
    "                if previous_city[i,j] == 0:\n",
    "                    new_city[i,j] = 0\n",
    "\n",
    "                # if value of offender's old location in previous_city was citizen\n",
    "                    # set the cell's value in new_city to a citizen\n",
    "                if previous_city[i,j] == 1:\n",
    "                    new_city[i,j] = 1\n",
    "\n",
    "                # if value of offender's old location in previous_city was capable guardian\n",
    "                    # set the cell's value in new_city to a capable guardian\n",
    "                    #  I DON'T THINK THIS IS NECESSARY ANYMORE BECAUSE OFFENDERS AREN'T ABLE TO MOVE ONTO A SPACE THAT ==3\n",
    "                if previous_city[i,j] == 3:\n",
    "                    new_city[i,j] = 3\n",
    "\n",
    "                # if value of offender's location in previous_city was offender\n",
    "                    # set the value in new_city to empty \n",
    "                if previous_city[i,j] == 2:\n",
    "                    new_city[i,j] = 0\n",
    "\n",
    "\n",
    "                ##-- CHECKING IF OFFENDER IS ON SAME CELL AS CITIZEN --##\n",
    "\n",
    "                # if offender's new location had a citizen on it in city:\n",
    "                    # check neighbor values of that offender's new_point index in city \n",
    "                if city_copy[new_point_i, new_point_j] == 1:\n",
    "\n",
    "                    ##-- CHECKING THE NEIGHBORS FOR A CAPABLE GUARDIAN --##\n",
    "\n",
    "                    # if there is a capable guardian in the neighborhood values of city[new_point]:\n",
    "                    if 3 in fixed_size_subset(city_copy, new_point_i, new_point_j, 15):\n",
    "\n",
    "                        # no robbery is recorded \n",
    "\n",
    "                        # set the cell's value in new_city = to offender (2)\n",
    "                        new_city[new_point_i, new_point_j] = 2\n",
    "\n",
    "                    # if there is NOT a capable guardian in the neighborhood values:\n",
    "                    elif 3 not in fixed_size_subset(city_copy, new_point_i, new_point_j, 15):\n",
    "\n",
    "                        # set the cell at robbery_record[i,j] += 1 \n",
    "                        robbery_record[new_point_i, new_point_j] += 1\n",
    "\n",
    "                        # set the cell's value in new_city = to offender (2) \n",
    "                        new_city[new_point_i, new_point_j] = 2\n",
    "\n",
    "                # if offender's new location did not have a citizen on it:\n",
    "                    # no robbery is recorded, continue looping through the array\n",
    "                else:\n",
    "                    continue\n",
    "\n",
    "    previous_city = city_copy.copy()\n",
    "    \n",
    "    return new_city, previous_city"
   ]
  },
  {
   "cell_type": "markdown",
   "id": "8b43806f",
   "metadata": {},
   "source": [
    "### Testing advance_city_v2 function"
   ]
  },
  {
   "cell_type": "code",
   "execution_count": 23,
   "id": "5fb88d71",
   "metadata": {},
   "outputs": [
    {
     "data": {
      "image/png": "[encoded data removed]",
      "text/plain": [
       "<Figure size 1440x1440 with 1 Axes>"
      ]
     },
     "metadata": {
      "needs_background": "light"
     },
     "output_type": "display_data"
    }
   ],
   "source": [
    "# creating example_city to test advance_city function on\n",
    "example_city = make_city_v2(100,100,2500,225,5)\n",
    "cityplot(example_city)"
   ]
  },
  {
   "cell_type": "code",
   "execution_count": 24,
   "id": "69e4c303",
   "metadata": {},
   "outputs": [
    {
     "data": {
      "image/png": "[encoded data removed]",
      "text/plain": [
       "<Figure size 1440x1440 with 1 Axes>"
      ]
     },
     "metadata": {
      "needs_background": "light"
     },
     "output_type": "display_data"
    }
   ],
   "source": [
    "previous_city = example_city.copy()\n",
    "robbery_record = np.zeros_like(example_city)\n",
    "example_city_v2, previous_city = advance_city_v2(example_city, previous_city)\n",
    "cityplot(example_city_v2)"
   ]
  },
  {
   "cell_type": "markdown",
   "id": "19916c99",
   "metadata": {},
   "source": [
    "# Attempts to Animate\n",
    "My animations are basic. I just plot the city and then clear the plot and plot the new city that is returned by the advance_city_v2 function. At the end of the loop the robbery record array is plotted. "
   ]
  },
  {
   "cell_type": "markdown",
   "id": "30b76c37",
   "metadata": {},
   "source": [
    "## Large Cities"
   ]
  },
  {
   "cell_type": "markdown",
   "id": "24be5632",
   "metadata": {},
   "source": [
    "### Model 1- 20,000 PEOPLE, 1800 OFFENDERS, 30 CAPABLE GUARDIANS"
   ]
  },
  {
   "cell_type": "code",
   "execution_count": 26,
   "id": "1878df0d",
   "metadata": {},
   "outputs": [
    {
     "data": {
      "text/plain": [
       "<Figure size 1440x1440 with 0 Axes>"
      ]
     },
     "metadata": {},
     "output_type": "display_data"
    },
    {
     "data": {
      "text/plain": [
       "<Figure size 432x288 with 0 Axes>"
      ]
     },
     "metadata": {},
     "output_type": "display_data"
    },
    {
     "data": {
      "image/png": "[encoded data removed]",
      "text/plain": [
       "<Figure size 1440x1440 with 1 Axes>"
      ]
     },
     "metadata": {
      "needs_background": "light"
     },
     "output_type": "display_data"
    },
    {
     "ename": "KeyboardInterrupt",
     "evalue": "",
     "output_type": "error",
     "traceback": [
      "\u001b[0;31m---------------------------------------------------------------------------\u001b[0m",
      "\u001b[0;31mKeyboardInterrupt\u001b[0m                         Traceback (most recent call last)",
      "\u001b[0;32m/var/folders/sw/0mwp7dqs2nvc4w88sfp29fvw0000gn/T/ipykernel_1138/3876766732.py\u001b[0m in \u001b[0;36m<module>\u001b[0;34m\u001b[0m\n\u001b[1;32m     13\u001b[0m \u001b[0;32mfor\u001b[0m \u001b[0mi\u001b[0m \u001b[0;32min\u001b[0m \u001b[0mrange\u001b[0m\u001b[0;34m(\u001b[0m\u001b[0;36m100\u001b[0m\u001b[0;34m)\u001b[0m\u001b[0;34m:\u001b[0m\u001b[0;34m\u001b[0m\u001b[0;34m\u001b[0m\u001b[0m\n\u001b[1;32m     14\u001b[0m \u001b[0;34m\u001b[0m\u001b[0m\n\u001b[0;32m---> 15\u001b[0;31m     \u001b[0mcity\u001b[0m\u001b[0;34m,\u001b[0m \u001b[0mprevious_city\u001b[0m \u001b[0;34m=\u001b[0m \u001b[0madvance_city_v2\u001b[0m\u001b[0;34m(\u001b[0m\u001b[0mcity\u001b[0m\u001b[0;34m,\u001b[0m \u001b[0mprevious_city\u001b[0m\u001b[0;34m)\u001b[0m\u001b[0;34m\u001b[0m\u001b[0;34m\u001b[0m\u001b[0m\n\u001b[0m\u001b[1;32m     16\u001b[0m \u001b[0;34m\u001b[0m\u001b[0m\n\u001b[1;32m     17\u001b[0m     \u001b[0mcityplot\u001b[0m\u001b[0;34m(\u001b[0m\u001b[0mcity\u001b[0m\u001b[0;34m)\u001b[0m\u001b[0;34m\u001b[0m\u001b[0;34m\u001b[0m\u001b[0m\n",
      "\u001b[0;32m/var/folders/sw/0mwp7dqs2nvc4w88sfp29fvw0000gn/T/ipykernel_1138/2479531652.py\u001b[0m in \u001b[0;36madvance_city_v2\u001b[0;34m(city, previous_city)\u001b[0m\n\u001b[1;32m     68\u001b[0m                         \u001b[0mnew_point_i\u001b[0m \u001b[0;34m=\u001b[0m \u001b[0mi\u001b[0m \u001b[0;34m+\u001b[0m \u001b[0mdistance\u001b[0m\u001b[0;34m\u001b[0m\u001b[0;34m\u001b[0m\u001b[0m\n\u001b[1;32m     69\u001b[0m                         \u001b[0mnew_point_j\u001b[0m \u001b[0;34m=\u001b[0m \u001b[0mj\u001b[0m\u001b[0;34m\u001b[0m\u001b[0;34m\u001b[0m\u001b[0m\n\u001b[0;32m---> 70\u001b[0;31m                         \u001b[0;32mif\u001b[0m \u001b[0monBoard\u001b[0m\u001b[0;34m(\u001b[0m\u001b[0mnew_point_i\u001b[0m\u001b[0;34m,\u001b[0m \u001b[0mnew_point_j\u001b[0m\u001b[0;34m,\u001b[0m \u001b[0mcity\u001b[0m\u001b[0;34m)\u001b[0m \u001b[0;34m==\u001b[0m \u001b[0;32mTrue\u001b[0m \u001b[0;32mand\u001b[0m \u001b[0mcity\u001b[0m\u001b[0;34m[\u001b[0m\u001b[0mnew_point_i\u001b[0m\u001b[0;34m,\u001b[0m \u001b[0mnew_point_j\u001b[0m\u001b[0;34m]\u001b[0m \u001b[0;34m!=\u001b[0m \u001b[0;36m2\u001b[0m \u001b[0;32mand\u001b[0m \u001b[0mcity\u001b[0m\u001b[0;34m[\u001b[0m\u001b[0mnew_point_i\u001b[0m\u001b[0;34m,\u001b[0m \u001b[0mnew_point_j\u001b[0m\u001b[0;34m]\u001b[0m \u001b[0;34m!=\u001b[0m \u001b[0;36m4\u001b[0m \u001b[0;32mand\u001b[0m \u001b[0mcity\u001b[0m\u001b[0;34m[\u001b[0m\u001b[0mnew_point_i\u001b[0m\u001b[0;34m,\u001b[0m \u001b[0mnew_point_j\u001b[0m\u001b[0;34m]\u001b[0m \u001b[0;34m!=\u001b[0m\u001b[0;36m3\u001b[0m\u001b[0;34m:\u001b[0m\u001b[0;34m\u001b[0m\u001b[0;34m\u001b[0m\u001b[0m\n\u001b[0m\u001b[1;32m     71\u001b[0m                             \u001b[0mfound_point\u001b[0m \u001b[0;34m=\u001b[0m \u001b[0;32mTrue\u001b[0m\u001b[0;34m\u001b[0m\u001b[0;34m\u001b[0m\u001b[0m\n\u001b[1;32m     72\u001b[0m                             \u001b[0;31m#print(new_point_i, new_point_j)\u001b[0m\u001b[0;34m\u001b[0m\u001b[0;34m\u001b[0m\u001b[0;34m\u001b[0m\u001b[0m\n",
      "\u001b[0;32m/var/folders/sw/0mwp7dqs2nvc4w88sfp29fvw0000gn/T/ipykernel_1138/834585733.py\u001b[0m in \u001b[0;36monBoard\u001b[0;34m(i, j, image)\u001b[0m\n\u001b[0;32m----> 1\u001b[0;31m \u001b[0;32mdef\u001b[0m \u001b[0monBoard\u001b[0m\u001b[0;34m(\u001b[0m\u001b[0mi\u001b[0m\u001b[0;34m,\u001b[0m\u001b[0mj\u001b[0m\u001b[0;34m,\u001b[0m\u001b[0mimage\u001b[0m\u001b[0;34m)\u001b[0m\u001b[0;34m:\u001b[0m\u001b[0;34m\u001b[0m\u001b[0;34m\u001b[0m\u001b[0m\n\u001b[0m\u001b[1;32m      2\u001b[0m     \u001b[0;32mif\u001b[0m \u001b[0mi\u001b[0m \u001b[0;34m<=\u001b[0m \u001b[0mimage\u001b[0m\u001b[0;34m.\u001b[0m\u001b[0mshape\u001b[0m\u001b[0;34m[\u001b[0m\u001b[0;36m0\u001b[0m\u001b[0;34m]\u001b[0m\u001b[0;34m-\u001b[0m\u001b[0;36m1\u001b[0m \u001b[0;32mand\u001b[0m \u001b[0mi\u001b[0m \u001b[0;34m>=\u001b[0m \u001b[0;36m0\u001b[0m \u001b[0;32mand\u001b[0m \u001b[0mj\u001b[0m \u001b[0;34m<=\u001b[0m \u001b[0mimage\u001b[0m\u001b[0;34m.\u001b[0m\u001b[0mshape\u001b[0m\u001b[0;34m[\u001b[0m\u001b[0;36m1\u001b[0m\u001b[0;34m]\u001b[0m\u001b[0;34m-\u001b[0m\u001b[0;36m1\u001b[0m \u001b[0;32mand\u001b[0m \u001b[0mj\u001b[0m \u001b[0;34m>=\u001b[0m \u001b[0;36m0\u001b[0m\u001b[0;34m:\u001b[0m\u001b[0;34m\u001b[0m\u001b[0;34m\u001b[0m\u001b[0m\n\u001b[1;32m      3\u001b[0m         \u001b[0;32mreturn\u001b[0m \u001b[0;32mTrue\u001b[0m\u001b[0;34m\u001b[0m\u001b[0;34m\u001b[0m\u001b[0m\n\u001b[1;32m      4\u001b[0m     \u001b[0;32melse\u001b[0m\u001b[0;34m:\u001b[0m\u001b[0;34m\u001b[0m\u001b[0;34m\u001b[0m\u001b[0m\n\u001b[1;32m      5\u001b[0m         \u001b[0;32mreturn\u001b[0m \u001b[0;32mFalse\u001b[0m\u001b[0;34m\u001b[0m\u001b[0;34m\u001b[0m\u001b[0m\n",
      "\u001b[0;31mKeyboardInterrupt\u001b[0m: "
     ]
    },
    {
     "data": {
      "text/plain": [
       "<Figure size 432x288 with 0 Axes>"
      ]
     },
     "metadata": {},
     "output_type": "display_data"
    }
   ],
   "source": [
    "# MODEL 1 - 20,000 PEOPLE, 1800 OFFENDERS, 30 CAPABLE GUARDIANS\n",
    "\n",
    "# creating city, initial previous_city and robbery_record\n",
    "city = make_city_v2(200, 200, 20000, 1800, 30)\n",
    "previous_city = city.copy()\n",
    "robbery_record = np.zeros_like(city)\n",
    "\n",
    "fig = plt.figure(figsize=(20,20))\n",
    "\n",
    "#plotting the original city\n",
    "cityplot(city)\n",
    "\n",
    "for i in range(100):\n",
    "    \n",
    "    city, previous_city = advance_city_v2(city, previous_city)\n",
    "    \n",
    "    cityplot(city)\n",
    "    time.sleep(0.01)  # \n",
    "    clear_output(wait=True)\n",
    "    display(fig)\n",
    "    plt.show()\n",
    "    plt.clf()\n",
    "    \n",
    "    \n",
    "plt.close()\n",
    "\n",
    "heatmapplot(robbery_record)\n",
    "\n",
    "robbery_record.sum()\n",
    "# sum amount of robberies == 70728"
   ]
  },
  {
   "cell_type": "markdown",
   "id": "2dba0397",
   "metadata": {},
   "source": [
    "### Model 2 - 20,000 PEOPLE, 1800 OFFENDERS, 60 CAPABLE GUARDIANS"
   ]
  },
  {
   "cell_type": "code",
   "execution_count": null,
   "id": "a2a2a2b4",
   "metadata": {},
   "outputs": [],
   "source": [
    "#%% MODEL 2 - 20,000 PEOPLE, 1800 OFFENDERS, 60 CAPABLE GUARDIANS\n",
    "\n",
    "city = make_city_v2(200, 200, 20000, 1800, 60)\n",
    "previous_city = city.copy()\n",
    "robbery_record = np.zeros_like(city)\n",
    "\n",
    "fig = plt.figure(figsize=(20,20))\n",
    "\n",
    "#plotting the original city\n",
    "cityplot(city)\n",
    "\n",
    "for i in range(100):\n",
    "    \n",
    "    city, previous_city = advance_city_v2(city, previous_city)\n",
    "    \n",
    "    cityplot(city)\n",
    "    time.sleep(0.01)  # \n",
    "    clear_output(wait=True)\n",
    "    display(fig)\n",
    "    plt.show()\n",
    "    plt.clf()\n",
    "    \n",
    "    \n",
    "plt.close()\n",
    "\n",
    "heatmapplot(robbery_record)\n",
    "\n",
    "robbery_record.sum()\n",
    "# sum amount of robberies == 60198"
   ]
  },
  {
   "cell_type": "markdown",
   "id": "719ecfc7",
   "metadata": {},
   "source": [
    "## Small cities"
   ]
  },
  {
   "cell_type": "markdown",
   "id": "662ac3ee",
   "metadata": {},
   "source": [
    "### Model 3 - 2500 people, 225 offenders, 5 guardians"
   ]
  },
  {
   "cell_type": "code",
   "execution_count": null,
   "id": "ebb892ac",
   "metadata": {},
   "outputs": [],
   "source": [
    "#%% MODEL 3 - (BIRKS ET AL., 2014) - SMALLER CITY \n",
    "\n",
    "city = make_city_v2(100, 100, 2500, 225, 5)\n",
    "previous_city = city.copy()\n",
    "robbery_record = np.zeros_like(city)\n",
    "\n",
    "fig = plt.figure(figsize=(20,20))\n",
    "\n",
    "#plotting the original city\n",
    "cityplot(city)\n",
    "\n",
    "for i in range(100):\n",
    "    \n",
    "    city, previous_city = advance_city_v2(city, previous_city)\n",
    "    \n",
    "    cityplot(city)\n",
    "    time.sleep(0.01)  # \n",
    "    clear_output(wait=True)\n",
    "    display(fig)\n",
    "    plt.show()\n",
    "    plt.clf()\n",
    "    \n",
    "    \n",
    "plt.close()\n",
    "\n",
    "heatmapplot(robbery_record)\n",
    "\n",
    "robbery_record.sum()\n",
    "# sum amount of robberies == 4315"
   ]
  },
  {
   "cell_type": "markdown",
   "id": "9758491b",
   "metadata": {},
   "source": [
    "### Model 4 - 2500 people, 225 offenders, 15 guardians"
   ]
  },
  {
   "cell_type": "code",
   "execution_count": null,
   "id": "0f9ec292",
   "metadata": {},
   "outputs": [],
   "source": [
    "#%% MODEL 4 - (BIRKS ET AL., 2014) - SMALLER CITY - HIGH GUARDIAN PRESENCE\n",
    "city = make_city_v2(100, 100, 2500, 225, 15)\n",
    "previous_city = city.copy()\n",
    "robbery_record = np.zeros_like(city)\n",
    "\n",
    "fig = plt.figure(figsize=(20,20))\n",
    "\n",
    "#plotting the original city\n",
    "cityplot(city)\n",
    "\n",
    "for i in range(100):\n",
    "    \n",
    "    city, previous_city = advance_city_v2(city, previous_city)\n",
    "    \n",
    "    cityplot(city)\n",
    "    time.sleep(0.01)  # \n",
    "    clear_output(wait=True)\n",
    "    display(fig)\n",
    "    plt.show()\n",
    "    plt.clf()\n",
    "    \n",
    "    \n",
    "plt.close()\n",
    "\n",
    "heatmapplot(robbery_record)\n",
    "\n",
    "\n",
    "robbery_record.sum()\n",
    "# sum amount of robberies == 4680"
   ]
  },
  {
   "cell_type": "markdown",
   "id": "d3dce91b",
   "metadata": {
    "slideshow": {
     "slide_type": "slide"
    }
   },
   "source": [
    "# Elements to be integrated in the future."
   ]
  },
  {
   "cell_type": "markdown",
   "id": "7ba7f6fb-a945-4e77-94ff-176b16757750",
   "metadata": {
    "slideshow": {
     "slide_type": "subslide"
    }
   },
   "source": [
    "## Agent movement enhancements\n",
    "- Offender movement\n",
    "    - routinize the movement of offenders to 4-5 activity spaces\n",
    "    - alter offender movement from teleport to cell traversal\n",
    "    - stagger offender movement starting point\n",
    "- Citizen/Victim movement\n",
    "    - victims would have 4-5 activity nodes they move to \n",
    "    - return home after being robbed\n",
    "    - concentrate citizens at activity nodes in environment\n",
    "- Capable guardian\n",
    "    - walk a routine beat similar to a police officer"
   ]
  },
  {
   "cell_type": "markdown",
   "id": "1fdc8677",
   "metadata": {
    "slideshow": {
     "slide_type": "subslide"
    }
   },
   "source": [
    "## Environment enhancements\n",
    "- utilize a GIS layer to create a realistic spatial environment\n",
    "- create a risk map that influences offender behavior"
   ]
  },
  {
   "cell_type": "markdown",
   "id": "deca8ad2",
   "metadata": {
    "slideshow": {
     "slide_type": "subslide"
    }
   },
   "source": [
    "## General enhancements\n",
    "- create classes for each agent type to facilitate inclusion of \n",
    "    - Offenders\n",
    "        - propensity score (some offenders more likely to offend)\n",
    "            - vary propensity score based on recency of offense\n",
    "    - Victims\n",
    "        - capable guardian score\n",
    "        - suitability score (as a victim)\n",
    "    - Capable guardians\n",
    "        - vary the deterrent effect with time (day vs. night)"
   ]
  },
  {
   "cell_type": "markdown",
   "id": "22985263",
   "metadata": {
    "slideshow": {
     "slide_type": "slide"
    }
   },
   "source": [
    "# References\n",
    "\n",
    "\n",
    "$^1$ Weisburd, D., Braga, A. A., Groff, E. R., & Wooditch, A. (2017). Can Hot Spots Policing Reduce Crime in Urban Areas? An Agent-Based Simulation*. Criminology, 55(1), 137–173. https://doi.org/10.1111/1745-9125.12131\n",
    "\n",
    "$^2$ Birks, D., Townsley, M., & Stewart, A. (2014). Emergent Regularities of Interpersonal Victimization: An Agent-Based Investigation. Journal of Research in Crime and Delinquency, 51(1), 119–140. https://doi.org/10.1177/0022427813487353\n",
    "\n",
    "$^3$Wooditch, Alese, and David Weisburd. 2016. Using space–time analysis to evaluate criminal justice programs: An application to stop-question-frisk practices. *Journal of Quantitative Criminology* 32:191–213."
   ]
  }
 ],
 "metadata": {
  "kernelspec": {
   "display_name": "Python 3 (ipykernel)",
   "language": "python",
   "name": "python3"
  },
  "language_info": {
   "codemirror_mode": {
    "name": "ipython",
    "version": 3
   },
   "file_extension": ".py",
   "mimetype": "text/x-python",
   "name": "python",
   "nbconvert_exporter": "python",
   "pygments_lexer": "ipython3",
   "version": "3.8.3"
  },
  "toc-showtags": false
 },
 "nbformat": 4,
 "nbformat_minor": 5
}
